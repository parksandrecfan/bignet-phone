{
 "cells": [
  {
   "cell_type": "markdown",
   "id": "stretch-oxygen",
   "metadata": {},
   "source": [
    "# dimension reduction analysis\n",
    "## steps:\n",
    "1. load a bignet model. Model can be trained in \"trained.ipynb\" or can be dwnloaded [here](https://drive.google.com/file/d/1pIr0VcdTEiTuR4CmwhmQ4YfnaHrbyEm4/view?usp=sharing)\n",
    "2. load dataset created from \"create dataset.ipynb\" or can be downloaded [here](https://drive.google.com/file/d/1FgSsBIPzOgKaXGAYXavOU56oW8111gu4/view?usp=sharing)\n",
    "3. get latent vector (before the last fc layer) of every data measured. This step will produce train/test latent vectors that can be downloaded [here](https://drive.google.com/file/d/1DxIC6I5gm-LKRwwm-kX6moLPln-6xS_z/view?usp=sharing)\n",
    "4. perform 2D/3D tSNE/PCA. results should be in \"dimension reduction\" dir and match with [these plots](https://drive.google.com/file/d/1F9-CT3p5EVLK222yWxqkO-5m9g1ryd4W/view?usp=share_link)"
   ]
  },
  {
   "cell_type": "markdown",
   "id": "acknowledged-falls",
   "metadata": {},
   "source": [
    "# load model and dataset"
   ]
  },
  {
   "cell_type": "code",
   "execution_count": 20,
   "id": "ancient-cruise",
   "metadata": {},
   "outputs": [],
   "source": [
    "import util as u\n",
    "\n",
    "model_path=\"trained_bignet1_naug_norm.pt\"\n",
    "pkl_folder=\"pkl\"\n",
    "dim_red_folder=\"dimension reduction\"\n",
    "\n",
    "dim_reds = [\"tsne\",\"pca\"]\n",
    "datasets = [\"train\",\"test\",\"reference\"]\n",
    "\n",
    "u.initialize([dim_red_folder])\n",
    "for dim_red in dim_reds:\n",
    "    u.initialize([\"%s/%s\"%(dim_red_folder, dim_red)])\n",
    "    for dataset in datasets:\n",
    "        u.initialize([\"%s/%s/%s\"%(dim_red_folder, dim_red, dataset)])"
   ]
  },
  {
   "cell_type": "code",
   "execution_count": 4,
   "id": "tropical-buying",
   "metadata": {},
   "outputs": [],
   "source": [
    "train_set_name = \"%s/train_data_no_aug.pkl\"%pkl_folder\n",
    "train_curve_label_name=\"%s/train_curve_label_no_aug.pkl\"%pkl_folder\n",
    "train_label_name= \"%s/train_label_no_aug.pkl\"%pkl_folder\n",
    "train_dist_mat_name=\"%s/train_dist_mat_no_aug.pkl\"%pkl_folder\n",
    "train_set, train_curve_label, train_label, train_dist_mat=\\\n",
    "u.load_set(train_set_name, train_curve_label_name,\\\n",
    "           train_label_name, train_dist_mat_name)"
   ]
  },
  {
   "cell_type": "code",
   "execution_count": 3,
   "id": "complete-sector",
   "metadata": {},
   "outputs": [],
   "source": [
    "test_set_name = \"%s/test_data_no_aug.pkl\"%pkl_folder\n",
    "test_curve_label_name=\"%s/test_curve_label_no_aug.pkl\"%pkl_folder\n",
    "test_label_name= \"%s/test_label_no_aug.pkl\"%pkl_folder\n",
    "test_dist_mat_name=\"%s/test_dist_mat_no_aug.pkl\"%pkl_folder\n",
    "test_set, test_curve_label, test_label, test_dist_mat=\\\n",
    "u.load_set(test_set_name, test_curve_label_name,\\\n",
    "           test_label_name, test_dist_mat_name)"
   ]
  },
  {
   "cell_type": "code",
   "execution_count": 2,
   "id": "lesbian-thesaurus",
   "metadata": {},
   "outputs": [],
   "source": [
    "# ref_set_name = \"%s/ref_data.pkl\"%pkl_folder\n",
    "# ref_curve_label_name=\"%s/ref_curve_label.pkl\"%pkl_folder\n",
    "# ref_label_name= \"%s/ref_label.pkl\"%pkl_folder\n",
    "# ref_dist_mat_name=\"%s/ref_dist_mat.pkl\"%pkl_folder\n",
    "# ref_set, ref_curve_label, ref_label, ref_dist_mat=\\\n",
    "# u.load_set(ref_set_name, ref_curve_label_name,\\\n",
    "#            ref_label_name, ref_dist_mat_name)"
   ]
  },
  {
   "cell_type": "code",
   "execution_count": 5,
   "id": "published-basket",
   "metadata": {},
   "outputs": [],
   "source": [
    "mode=\"norm\"\n",
    "train_latent_vec = u.get_latent(train_set, train_curve_label, \\\n",
    "                              train_dist_mat, model_path, mode)#this is slow\n",
    "test_latent_vec = u.get_latent(test_set, test_curve_label, \\\n",
    "                             test_dist_mat, model_path, mode)#this is slow\n",
    "# ref_latent_vec=u.get_latent(ref_set, ref_curve_label,\\\n",
    "#                            ref_dist_mat, model_path, mode)"
   ]
  },
  {
   "cell_type": "markdown",
   "id": "architectural-buffalo",
   "metadata": {},
   "source": [
    "# generate 3D tSNE latent vectors"
   ]
  },
  {
   "cell_type": "code",
   "execution_count": 6,
   "id": "quality-estate",
   "metadata": {},
   "outputs": [],
   "source": [
    "#this step is very slow, should run separately\n",
    "#use letent2plot will run every single time\n",
    "\n",
    "latent_vec=test_latent_vec\n",
    "latent_vec=train_latent_vec\n",
    "train_tsne3vector=u.vec2plot(train_latent_vec, mode=\"tsne\", dimension=3)\n",
    "test_tsne3vector=u.vec2plot(test_latent_vec, mode=\"tsne\", dimension=3)\n",
    "# ref_tsne3vector=u.vec2plot(ref_latent_vec, mode=\"tsne\", dimension=3)"
   ]
  },
  {
   "cell_type": "code",
   "execution_count": 7,
   "id": "advance-style",
   "metadata": {},
   "outputs": [],
   "source": [
    "u.dump_item(train_latent_vec,\"%s/train_latent_norm2.pkl\"%pkl_folder)\n",
    "u.dump_item(test_latent_vec,\"%s/test_latent_norm2.pkl\"%pkl_folder)\n",
    "# u.dump_item(ref_latent_vec,\"%s/ref_latent_norm2.pkl\"%pkl_folder)\n",
    "\n",
    "u.dump_item(train_tsne3vector,\"%s/train_tsne3_norm2.pkl\"%pkl_folder)\n",
    "u.dump_item(test_tsne3vector,\"%s/test_tsne3_norm2.pkl\"%pkl_folder)\n",
    "# u.dump_item(ref_tsne3vector,\"%s/ref_tsne3_norm2.pkl\"%pkl_folder)"
   ]
  },
  {
   "cell_type": "markdown",
   "id": "cheap-persian",
   "metadata": {},
   "source": [
    "# load 3D tSNE latent vectors"
   ]
  },
  {
   "cell_type": "code",
   "execution_count": null,
   "id": "thousand-reviewer",
   "metadata": {},
   "outputs": [],
   "source": [
    "train_latent_vec = u.load_item(\"%s/train_latent_norm2.pkl\"%pkl_folder)\n",
    "test_latent_vec = u.load_item(\"%s/test_latent_norm2.pkl\"%pkl_folder)\n",
    "# ref_latent_vec = u.load_item(\"%s/ref_latent_norm2.pkl\"%pkl_folder)\n",
    "\n",
    "train_tsne3vector = u.load_item(\"%s/train_tsne3_norm2.pkl\"%pkl_folder)\n",
    "test_tsne3vector = u.load_item(\"%s/test_tsne3_norm2.pkl\"%pkl_folder)\n",
    "# ref_tsne3vector = u.load_item(\"%s/ref_tsne3_norm2.pkl\"%pkl_folder)"
   ]
  },
  {
   "cell_type": "markdown",
   "id": "light-indianapolis",
   "metadata": {},
   "source": [
    "# plot 3D tSNE latent vectors"
   ]
  },
  {
   "cell_type": "code",
   "execution_count": 21,
   "id": "drawn-magnet",
   "metadata": {},
   "outputs": [],
   "source": [
    "import matplotlib.pyplot as plt\n",
    "import matplotlib.patches as mpatches\n",
    "import matplotlib.pyplot as plt\n",
    "\n",
    "dataset=\"train\"\n",
    "vector=train_tsne3vector\n",
    "for i in range(18):\n",
    "    for j in range(18):\n",
    "        threshold=int(vector.shape[0]/2)\n",
    "        u.plot_vec(vector=vector, threshold=threshold, angles=(i*10,9,j*10))\n",
    "        red_patch = mpatches.Patch(color=[1,0,0], label='iphone')\n",
    "        blue_patch = mpatches.Patch(color=[0,0,1], label='samsung')\n",
    "        plt.legend(handles=[red_patch, blue_patch], fontsize=15)\n",
    "        plt.savefig(\"%s/tsne/%s/%s %s\"%(dim_red_folder,dataset,i,j))\n",
    "        plt.close()\n",
    "        \n",
    "dataset=\"test\"    \n",
    "vector=test_tsne3vector\n",
    "for i in range(18):\n",
    "    for j in range(18):\n",
    "        threshold=int(vector.shape[0]/2)\n",
    "        u.plot_vec(vector=vector, threshold=threshold, angles=(i*10,9,j*10))\n",
    "        red_patch = mpatches.Patch(color=[1,0,0], label='iphone')\n",
    "        blue_patch = mpatches.Patch(color=[0,0,1], label='samsung')\n",
    "        plt.legend(handles=[red_patch, blue_patch], fontsize=15)\n",
    "        plt.savefig(\"%s/tsne/%s/%s %s\"%(dim_red_folder,dataset,i,j))\n",
    "        plt.close()\n",
    "\n",
    "# dataset=\"reference\"\n",
    "# vector=ref_tsne3vector\n",
    "# for i in range(18):\n",
    "#     for j in range(18):\n",
    "#         threshold=int(vector.shape[0]/2)\n",
    "#         u.plot_vec(vector=vector, threshold=threshold, angles=(i*10,9,j*10))\n",
    "#         red_patch = mpatches.Patch(color=[1,0,0], label='iphone')\n",
    "#         blue_patch = mpatches.Patch(color=[0,0,1], label='samsung')\n",
    "#         plt.legend(handles=[red_patch, blue_patch], fontsize=15)\n",
    "#         plt.savefig(\"%s/tsne/%s/%s %s\"%(dim_red_folder,dataset,i,j))\n",
    "#         plt.close()"
   ]
  },
  {
   "cell_type": "markdown",
   "id": "precious-decimal",
   "metadata": {},
   "source": [
    "# PCA 3D latent plot"
   ]
  },
  {
   "cell_type": "code",
   "execution_count": 23,
   "id": "imperial-color",
   "metadata": {},
   "outputs": [],
   "source": [
    "#3D PCA plot\n",
    "train_pca3vector=u.vec2plot(train_latent_vec, mode=\"pca\", dimension=3)\n",
    "test_pca3vector=u.vec2plot(test_latent_vec, mode=\"pca\", dimension=3)\n",
    "ref_pca3vector=u.vec2plot(ref_latent_vec, mode=\"pca\", dimension=3)\n",
    "u.dump_item(train_pca3vector,\"%s/train_pca3_norm2.pkl\"%pkl_folder)\n",
    "u.dump_item(test_pca3vector,\"%s/test_pca3_norm2.pkl\"%pkl_folder)\n",
    "# u.dump_item(ref_pca3vector,\"%s/ref_pca3_norm2.pkl\"%pkl_folder)"
   ]
  },
  {
   "cell_type": "code",
   "execution_count": 25,
   "id": "respected-hello",
   "metadata": {},
   "outputs": [],
   "source": [
    "import matplotlib.pyplot as plt\n",
    "import matplotlib.patches as mpatches\n",
    "import matplotlib.pyplot as plt\n",
    "\n",
    "dataset=\"train\"\n",
    "vector=train_pca3vector\n",
    "space = 20\n",
    "count = int(180/space)\n",
    "for i in range(count):\n",
    "    for j in range(count):\n",
    "        threshold=int(vector.shape[0]/2)\n",
    "        u.plot_vec(vector=vector, threshold=threshold, angles=(i*space,9,j*space))\n",
    "        red_patch = mpatches.Patch(color=[1,0,0], label='iphone')\n",
    "        blue_patch = mpatches.Patch(color=[0,0,1], label='samsung')\n",
    "        plt.legend(handles=[red_patch, blue_patch], fontsize=15)\n",
    "        plt.savefig(\"%s/pca/%s/%s %s\"%(dim_red_folder,dataset,i,j))\n",
    "        plt.close()\n",
    "        \n",
    "dataset=\"test\"    \n",
    "vector=test_pca3vector\n",
    "for i in range(count):\n",
    "    for j in range(count):\n",
    "        threshold=int(vector.shape[0]/2)\n",
    "        u.plot_vec(vector=vector, threshold=threshold, angles=(i*space,9,j*space))\n",
    "        red_patch = mpatches.Patch(color=[1,0,0], label='iphone')\n",
    "        blue_patch = mpatches.Patch(color=[0,0,1], label='samsung')\n",
    "        plt.legend(handles=[red_patch, blue_patch], fontsize=15)\n",
    "        plt.savefig(\"%s/pca/%s/%s %s\"%(dim_red_folder,dataset,i,j))\n",
    "        plt.close()\n",
    "\n",
    "# dataset=\"reference\"\n",
    "# vector=ref_pca3vector\n",
    "# for i in range(count):\n",
    "#     for j in range(count):\n",
    "#         threshold=int(vector.shape[0]/2)\n",
    "#         u.plot_vec(vector=vector, threshold=threshold, angles=(i*space,9,j*space))\n",
    "#         red_patch = mpatches.Patch(color=[1,0,0], label='iphone')\n",
    "#         blue_patch = mpatches.Patch(color=[0,0,1], label='samsung')\n",
    "#         plt.legend(handles=[red_patch, blue_patch], fontsize=15)\n",
    "#         plt.savefig(\"%s/pca/%s/%s %s\"%(dim_red_folder,dataset,i,j))\n",
    "#         plt.close()"
   ]
  },
  {
   "cell_type": "markdown",
   "id": "integral-horror",
   "metadata": {},
   "source": [
    "# PCA 2D latent plot"
   ]
  },
  {
   "cell_type": "code",
   "execution_count": 30,
   "id": "stock-attendance",
   "metadata": {},
   "outputs": [],
   "source": [
    "#2D PCA plot\n",
    "train_pca2vector=u.vec2plot(train_latent_vec, mode=\"pca\", dimension=2)\n",
    "test_pca2vector=u.vec2plot(test_latent_vec, mode=\"pca\", dimension=2)\n",
    "# ref_pca2vector=u.vec2plot(ref_latent_vec, mode=\"pca\", dimension=2)"
   ]
  },
  {
   "cell_type": "code",
   "execution_count": 31,
   "id": "chronic-substance",
   "metadata": {},
   "outputs": [],
   "source": [
    "u.dump_item(train_pca2vector,\"%s/train_pca2_norm2.pkl\"%pkl_folder)\n",
    "u.dump_item(test_pca2vector,\"%s/test_pca2_norm2.pkl\"%pkl_folder)\n",
    "# u.dump_item(ref_pca2vector,\"%s/ref_pca2_norm2.pkl\"%pkl_folder)"
   ]
  },
  {
   "cell_type": "code",
   "execution_count": 32,
   "id": "structured-hindu",
   "metadata": {},
   "outputs": [],
   "source": [
    "dataset=\"train\"\n",
    "vector=train_pca2vector\n",
    "\n",
    "plt.figure(figsize=(10,10))\n",
    "threshold=int(vector.shape[0]/2)\n",
    "u.plot_vec(vector=vector, threshold=threshold)\n",
    "red_patch = mpatches.Patch(color=[1,0,0], label='iphone')\n",
    "blue_patch = mpatches.Patch(color=[0,0,1], label='samsung')\n",
    "plt.legend(handles=[red_patch, blue_patch], fontsize=15)\n",
    "plt.savefig(\"%s/pca/%s\"%(dim_red_folder,dataset))\n",
    "plt.close()\n",
    "\n",
    "\n",
    "dataset=\"test\"\n",
    "vector=test_pca2vector\n",
    "\n",
    "plt.figure(figsize=(10,10))\n",
    "threshold=int(vector.shape[0]/2)\n",
    "u.plot_vec(vector=vector, threshold=threshold)\n",
    "red_patch = mpatches.Patch(color=[1,0,0], label='iphone')\n",
    "blue_patch = mpatches.Patch(color=[0,0,1], label='samsung')\n",
    "plt.legend(handles=[red_patch, blue_patch], fontsize=15)\n",
    "plt.savefig(\"%s/pca/%s\"%(dim_red_folder,dataset))\n",
    "plt.close()\n",
    "\n",
    "# dataset=\"reference\"\n",
    "# vector=ref_pca2vector\n",
    "\n",
    "# plt.figure(figsize=(10,10))\n",
    "# threshold=int(vector.shape[0]/2)\n",
    "# u.plot_vec(vector=vector, threshold=threshold)\n",
    "# red_patch = mpatches.Patch(color=[1,0,0], label='iphone')\n",
    "# blue_patch = mpatches.Patch(color=[0,0,1], label='samsung')\n",
    "# plt.legend(handles=[red_patch, blue_patch], fontsize=15)\n",
    "# plt.savefig(\"%s/pca/%s\"%(dim_red_folder,dataset))\n",
    "# plt.close()"
   ]
  }
 ],
 "metadata": {
  "kernelspec": {
   "display_name": "kernel_20210124",
   "language": "python",
   "name": "kernel_20210124"
  },
  "language_info": {
   "codemirror_mode": {
    "name": "ipython",
    "version": 3
   },
   "file_extension": ".py",
   "mimetype": "text/x-python",
   "name": "python",
   "nbconvert_exporter": "python",
   "pygments_lexer": "ipython3",
   "version": "3.6.7"
  }
 },
 "nbformat": 4,
 "nbformat_minor": 5
}
