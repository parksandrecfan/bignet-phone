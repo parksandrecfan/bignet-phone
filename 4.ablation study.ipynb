{
 "cells": [
  {
   "cell_type": "markdown",
   "id": "saving-external",
   "metadata": {},
   "source": [
    "# Leave-one-feature-out ablation study\n",
    "generates:<br>\n",
    "brand-relevant(true)/irrelevant(false) feature visualization,<br>\n",
    "at both chunk (group) level and curve level,<br>\n",
    "on both synthetic(train+test)/reference set.<br>\n",
    "\n",
    "The results should match [lofo-ablation.zip](https://drive.google.com/file/d/1PwrxeLgwya7I41y2onD2hgMjsjUyvFD0/view?usp=sharing)"
   ]
  },
  {
   "cell_type": "code",
   "execution_count": 1,
   "id": "cheap-director",
   "metadata": {},
   "outputs": [],
   "source": [
    "import util as u\n",
    "pkl_folder=\"pkl\""
   ]
  },
  {
   "cell_type": "code",
   "execution_count": 4,
   "id": "every-utility",
   "metadata": {},
   "outputs": [],
   "source": [
    "model_path=\"trained_bignet1_naug_norm.pt\""
   ]
  },
  {
   "cell_type": "code",
   "execution_count": 6,
   "id": "exceptional-paste",
   "metadata": {},
   "outputs": [],
   "source": [
    "#evaluate refrence source\n",
    "'''evaluate the original set'''\n",
    "in_folder_path=\"ref_iphone_resample\"\n",
    "out_folder_path=\"ref_ablation/%s/true\"%model_path\n",
    "u.eval1folder(model_path, in_folder_path, out_folder_path,\\\n",
    "              brand=\"iphone\", resample=0, mode=\"norm\")\n",
    "in_folder_path=\"ref_samsung_resample\"\n",
    "u.eval1folder(model_path, in_folder_path, out_folder_path,\\\n",
    "              brand=\"samsung\", resample=0, mode=\"norm\")\n",
    "\n",
    "in_folder_path=\"ref_iphone_resample\"\n",
    "out_folder_path=\"ref_ablation/%s/false\"%model_path\n",
    "u.eval1folder(model_path, in_folder_path, out_folder_path,\\\n",
    "              brand=\"samsung\", resample=0, mode=\"norm\")\n",
    "in_folder_path=\"ref_samsung_resample\"\n",
    "u.eval1folder(model_path, in_folder_path, out_folder_path,\\\n",
    "              brand=\"iphone\", resample=0, mode=\"norm\")"
   ]
  },
  {
   "cell_type": "code",
   "execution_count": 7,
   "id": "angry-fifty",
   "metadata": {},
   "outputs": [],
   "source": [
    "#evaluate synthetic dataset\n",
    "'''evaluate a resampled set'''\n",
    "in_folder_path=\"iphone_resample\"\n",
    "out_folder_path=\"synthetic_ablation/%s/true\"%model_path\n",
    "u.eval1folder(model_path, in_folder_path, out_folder_path,\\\n",
    "              brand=\"iphone\", resample=0, mode=\"norm\")\n",
    "in_folder_path=\"samsung_resample\"\n",
    "u.eval1folder(model_path, in_folder_path, out_folder_path,\\\n",
    "              brand=\"samsung\", resample=0, mode=\"norm\")\n",
    "\n",
    "in_folder_path=\"iphone_resample\"\n",
    "out_folder_path=\"synthetic_ablation/%s/false\"%model_path\n",
    "u.eval1folder(model_path, in_folder_path, out_folder_path,\\\n",
    "              brand=\"samsung\", resample=0, mode=\"norm\")\n",
    "in_folder_path=\"samsung_resample\"\n",
    "u.eval1folder(model_path, in_folder_path, out_folder_path,\\\n",
    "              brand=\"iphone\", resample=0, mode=\"norm\")"
   ]
  }
 ],
 "metadata": {
  "kernelspec": {
   "display_name": "kernel_20210124",
   "language": "python",
   "name": "kernel_20210124"
  },
  "language_info": {
   "codemirror_mode": {
    "name": "ipython",
    "version": 3
   },
   "file_extension": ".py",
   "mimetype": "text/x-python",
   "name": "python",
   "nbconvert_exporter": "python",
   "pygments_lexer": "ipython3",
   "version": "3.6.7"
  }
 },
 "nbformat": 4,
 "nbformat_minor": 5
}
