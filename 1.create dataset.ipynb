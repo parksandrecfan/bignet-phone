{
 "cells": [
  {
   "cell_type": "markdown",
   "id": "thrown-staff",
   "metadata": {},
   "source": [
    "# Make a dataset of vectorized phone front view\n",
    "## output:\n",
    "## original SVG (from shape grammar): in iphone_original & samsung_original folder\n",
    "## rasterized bmp (for resampling): in iphone_pixel & samsung_pixel folder\n",
    "## resampled SVG (actually used for training): in iphone_resample % samsung_resample folder\n",
    "----------------could skip the above process if download [SVG-data.zip](https://drive.google.com/file/d/1EHMhK5YhudFL1mEfMslS2hXQ92VLCOcK/view?usp=sharing)----------------\n",
    "## GNN-readable SVG (saved in pickle format): in pkl/data, label, curve_label, dist_mat for train/test/reference set\n",
    "----------------could skip the above process if download [GNN-data.zip](https://drive.google.com/file/d/1FgSsBIPzOgKaXGAYXavOU56oW8111gu4/view?usp=sharing)----------------\n"
   ]
  },
  {
   "cell_type": "code",
   "execution_count": 2,
   "id": "cheap-necklace",
   "metadata": {},
   "outputs": [],
   "source": [
    "import util as u"
   ]
  },
  {
   "cell_type": "markdown",
   "id": "banned-hydrogen",
   "metadata": {},
   "source": [
    "#### 1. Generate SVG using shape grammar & resample\n",
    "-------could skip this step if download [SVG-data.zip](https://drive.google.com/file/d/1EHMhK5YhudFL1mEfMslS2hXQ92VLCOcK/view?usp=sharing)--------"
   ]
  },
  {
   "cell_type": "code",
   "execution_count": 5,
   "id": "sticky-insurance",
   "metadata": {},
   "outputs": [],
   "source": [
    "folder_list=[]\n",
    "original_iphone_folder=\"iphone_original\"\n",
    "folder_list.append(original_iphone_folder)\n",
    "original_samsung_folder=\"samsung_original\"\n",
    "folder_list.append(original_samsung_folder)\n",
    "pixel_iphone_folder = \"iphone_pixel\"\n",
    "folder_list.append(pixel_iphone_folder)\n",
    "pixel_samsung_folder = \"samsung_pixel\"\n",
    "folder_list.append(pixel_samsung_folder)\n",
    "resample_iphone_folder = \"iphone_resample\"\n",
    "folder_list.append(resample_iphone_folder)\n",
    "resample_samsung_folder = \"samsung_resample\"\n",
    "folder_list.append(resample_samsung_folder)\n",
    "pkl_folder=\"pkl\"\n",
    "folder_list.append(pkl_folder)\n",
    "        \n",
    "u.initialize(folder_list)"
   ]
  },
  {
   "cell_type": "code",
   "execution_count": 20,
   "id": "cloudy-february",
   "metadata": {},
   "outputs": [],
   "source": [
    "# pkl_folder=\"pkl\"\n",
    "iphone_params_path=\"%s/iphone_params.pkl\"%pkl_folder\n",
    "samsung_params_path=\"%s/samsung_params.pkl\"%pkl_folder\n",
    "\n",
    "data_size=(1,10000)\n",
    "iphone_params=u.create_iphone_params(data_size)\n",
    "u.dump_item(iphone_params, iphone_params_path)\n",
    "samsung_params=u.create_samsung_params(data_size)\n",
    "u.dump_item(samsung_params, samsung_params_path)"
   ]
  },
  {
   "cell_type": "code",
   "execution_count": 21,
   "id": "identified-guard",
   "metadata": {},
   "outputs": [],
   "source": [
    "u.create_iphone_dataset(iphone_params, \\\n",
    "                    original_iphone_folder, \\\n",
    "                    stroke_aug=0, \\\n",
    "                    stripe=0)\n",
    "\n",
    "u.create_samsung_dataset(samsung_params, \\\n",
    "                    original_samsung_folder, \\\n",
    "                    stroke_aug=0, \\\n",
    "                    stripe=0)"
   ]
  },
  {
   "cell_type": "code",
   "execution_count": 1,
   "id": "municipal-singles",
   "metadata": {},
   "outputs": [],
   "source": [
    "pixel_format=\".bmp\"\n",
    "u.resample(original_iphone_folder, pixel_iphone_folder,\\\n",
    "          pixel_format, resample_iphone_folder)\n",
    "u.resample(original_samsung_folder, pixel_samsung_folder,\\\n",
    "          pixel_format, resample_samsung_folder)"
   ]
  },
  {
   "cell_type": "markdown",
   "id": "arbitrary-session",
   "metadata": {},
   "source": [
    "#### 2. train/test split and process to be GNN-friendly\n",
    "-------could skip this step if download [GNN-data.zip](https://drive.google.com/file/d/1FgSsBIPzOgKaXGAYXavOU56oW8111gu4/view?usp=sharing)-------"
   ]
  },
  {
   "cell_type": "code",
   "execution_count": 6,
   "id": "buried-score",
   "metadata": {},
   "outputs": [],
   "source": [
    "train_ratio=0.9\n",
    "train_iphones, test_iphones=u.split(resample_iphone_folder, train_ratio)\n",
    "train_samsungs, test_samsungs=u.split(resample_samsung_folder, train_ratio)"
   ]
  },
  {
   "cell_type": "code",
   "execution_count": 9,
   "id": "breeding-patrick",
   "metadata": {},
   "outputs": [],
   "source": [
    "#no augment\n",
    "train_list, train_label, train_cor_list, train_name_list=\\\n",
    "u.get_normalized_data(train_iphones, train_samsungs, h_aug=0, v_aug=0)\n",
    "\n",
    "test_list, test_label, test_cor_list, test_name_list=\\\n",
    "u.get_normalized_data(test_iphones, test_samsungs, h_aug=0, v_aug=0)\n",
    "\n",
    "train_set_name = \"%s/train_data_no_aug.pkl\"%pkl_folder\n",
    "train_curve_label_name=\"%s/train_curve_label_no_aug.pkl\"%pkl_folder\n",
    "train_label_name= \"%s/train_label_no_aug.pkl\"%pkl_folder\n",
    "train_dist_mat_name=\"%s/train_dist_mat_no_aug.pkl\"%pkl_folder\n",
    "\n",
    "test_set_name = \"%s/test_data_no_aug.pkl\"%pkl_folder\n",
    "test_curve_label_name=\"%s/test_curve_label_no_aug.pkl\"%pkl_folder\n",
    "test_label_name= \"%s/test_label_no_aug.pkl\"%pkl_folder\n",
    "test_dist_mat_name=\"%s/test_dist_mat_no_aug.pkl\"%pkl_folder\n",
    "\n",
    "u.save_dataset(train_set_name, train_curve_label_name, train_label_name, train_dist_mat_name,\n",
    "             test_set_name, test_curve_label_name, test_label_name, test_dist_mat_name,\n",
    "             train_list, train_label, train_cor_list,\n",
    "             test_list, test_label, test_cor_list)"
   ]
  },
  {
   "cell_type": "code",
   "execution_count": 12,
   "id": "flying-semester",
   "metadata": {},
   "outputs": [],
   "source": [
    "'''make source validation set(no stripe)'''\n",
    "ref_folder_list=[]\n",
    "\n",
    "ref_original_iphone_folder=\"ref_iphone_original\"#already here!\n",
    "ref_original_samsung_folder=\"ref_samsung_original\"#already here!\n",
    "\n",
    "ref_pixel_iphone_folder = \"ref_iphone_pixel\"\n",
    "ref_folder_list.append(ref_pixel_iphone_folder)\n",
    "ref_pixel_samsung_folder = \"ref_samsung_pixel\"\n",
    "ref_folder_list.append(ref_pixel_samsung_folder)\n",
    "\n",
    "ref_resample_iphone_folder=\"ref_iphone_resample\"\n",
    "ref_folder_list.append(ref_resample_iphone_folder)\n",
    "ref_resample_samsung_folder=\"ref_samsung_resample\"\n",
    "ref_folder_list.append(ref_resample_samsung_folder)\n",
    "\n",
    "u.initialize(ref_folder_list)\n",
    "\n",
    "pixel_format=\".bmp\"\n",
    "u.resample(ref_original_iphone_folder, ref_pixel_iphone_folder,\\\n",
    "          pixel_format, ref_resample_iphone_folder)\n",
    "u.resample(ref_original_samsung_folder, ref_pixel_samsung_folder,\\\n",
    "          pixel_format, ref_resample_samsung_folder)\n",
    "\n",
    "ref_iphones = u.get_filelist(dir, ref_resample_iphone_folder)\n",
    "ref_samsungs = u.get_filelist(dir, ref_resample_samsung_folder)\n",
    "\n",
    "ref_list, ref_label, ref_cor_list, ref_name_list=\\\n",
    "u.get_normalized_data(ref_iphones, ref_samsungs, h_aug=0, v_aug=0)\n",
    "\n",
    "ref_set_name = \"%s/ref_data.pkl\"%pkl_folder\n",
    "ref_curve_label_name=\"%s/ref_curve_label.pkl\"%pkl_folder\n",
    "ref_label_name= \"%s/ref_label.pkl\"%pkl_folder\n",
    "ref_dist_mat_name=\"%s/ref_dist_mat.pkl\"%pkl_folder\n",
    "\n",
    "u.save_set(ref_set_name, ref_curve_label_name, ref_label_name, \\\n",
    "         ref_dist_mat_name, ref_list, ref_label, ref_cor_list)"
   ]
  }
 ],
 "metadata": {
  "kernelspec": {
   "display_name": "kernel_20210124",
   "language": "python",
   "name": "kernel_20210124"
  },
  "language_info": {
   "codemirror_mode": {
    "name": "ipython",
    "version": 3
   },
   "file_extension": ".py",
   "mimetype": "text/x-python",
   "name": "python",
   "nbconvert_exporter": "python",
   "pygments_lexer": "ipython3",
   "version": "3.6.7"
  }
 },
 "nbformat": 4,
 "nbformat_minor": 5
}
