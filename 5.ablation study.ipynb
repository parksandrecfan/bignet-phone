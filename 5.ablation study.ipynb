{
 "cells": [
  {
   "cell_type": "code",
   "execution_count": 1,
   "id": "increased-postage",
   "metadata": {},
   "outputs": [
    {
     "data": {
      "text/plain": [
       "'turn everything in a folder to another folder'"
      ]
     },
     "execution_count": 1,
     "metadata": {},
     "output_type": "execute_result"
    }
   ],
   "source": [
    "'''turn everything in a folder to another folder'''"
   ]
  },
  {
   "cell_type": "code",
   "execution_count": 2,
   "id": "mighty-allah",
   "metadata": {},
   "outputs": [
    {
     "data": {
      "text/plain": [
       "'\\ngoal:\\n1. Given a folder, turn every picture to either \"group\" or \"curve\"\\nablation_svg/samsung_resample/original & group & curve\\n2. Given a set of parameters, know SVG, confidence, ablation\\n'"
      ]
     },
     "execution_count": 2,
     "metadata": {},
     "output_type": "execute_result"
    }
   ],
   "source": [
    "'''\n",
    "goal:\n",
    "1. Given a folder, turn every picture to either \"group\" or \"curve\"\n",
    "ablation_svg/samsung_resample/original & group & curve\n",
    "2. Given a set of parameters, know SVG, confidence, ablation\n",
    "'''"
   ]
  },
  {
   "cell_type": "code",
   "execution_count": 1,
   "id": "opposed-noise",
   "metadata": {},
   "outputs": [],
   "source": [
    "import util as u\n",
    "pkl_folder=\"pkl\""
   ]
  },
  {
   "cell_type": "code",
   "execution_count": 4,
   "id": "brilliant-negative",
   "metadata": {},
   "outputs": [],
   "source": [
    "# model_path=\"rec_sage_ns2.pt\"\n",
    "# model_path=\"phonesage_naug_avg50.pt\"\n",
    "# model_path=\"phonesage_naug_avg.pt\"\n",
    "model_path=\"phonesage_naug_norm.pt\""
   ]
  },
  {
   "cell_type": "code",
   "execution_count": 6,
   "id": "interested-label",
   "metadata": {},
   "outputs": [],
   "source": [
    "#evaluate refrence source\n",
    "# model_path=\"phonesage_naug_norm_continue.pt\"\n",
    "'''evaluate a resampled set'''\n",
    "in_folder_path=\"ref_iphone_resample\"\n",
    "out_folder_path=\"ref_ablation/%s/true\"%model_path\n",
    "u.eval1folder(model_path, in_folder_path, out_folder_path,\\\n",
    "              brand=\"iphone\", resample=0, mode=\"norm\")\n",
    "in_folder_path=\"ref_samsung_resample\"\n",
    "u.eval1folder(model_path, in_folder_path, out_folder_path,\\\n",
    "              brand=\"samsung\", resample=0, mode=\"norm\")\n",
    "\n",
    "in_folder_path=\"ref_iphone_resample\"\n",
    "out_folder_path=\"ref_ablation/%s/false\"%model_path\n",
    "u.eval1folder(model_path, in_folder_path, out_folder_path,\\\n",
    "              brand=\"samsung\", resample=0, mode=\"norm\")\n",
    "in_folder_path=\"ref_samsung_resample\"\n",
    "u.eval1folder(model_path, in_folder_path, out_folder_path,\\\n",
    "              brand=\"iphone\", resample=0, mode=\"norm\")"
   ]
  },
  {
   "cell_type": "code",
   "execution_count": 7,
   "id": "verbal-photography",
   "metadata": {},
   "outputs": [],
   "source": [
    "#evaluate synthetic dataset\n",
    "# model_path=\"phonesage_naug_norm_continue.pt\"\n",
    "'''evaluate a resampled set'''\n",
    "in_folder_path=\"iphone_resample\"\n",
    "out_folder_path=\"synthetic_ablation/%s/true\"%model_path\n",
    "u.eval1folder(model_path, in_folder_path, out_folder_path,\\\n",
    "              brand=\"iphone\", resample=0, mode=\"norm\")\n",
    "in_folder_path=\"samsung_resample\"\n",
    "u.eval1folder(model_path, in_folder_path, out_folder_path,\\\n",
    "              brand=\"samsung\", resample=0, mode=\"norm\")\n",
    "\n",
    "in_folder_path=\"iphone_resample\"\n",
    "out_folder_path=\"synthetic_ablation/%s/false\"%model_path\n",
    "u.eval1folder(model_path, in_folder_path, out_folder_path,\\\n",
    "              brand=\"samsung\", resample=0, mode=\"norm\")\n",
    "in_folder_path=\"samsung_resample\"\n",
    "u.eval1folder(model_path, in_folder_path, out_folder_path,\\\n",
    "              brand=\"iphone\", resample=0, mode=\"norm\")"
   ]
  },
  {
   "cell_type": "code",
   "execution_count": null,
   "id": "demanding-collect",
   "metadata": {},
   "outputs": [],
   "source": []
  },
  {
   "cell_type": "code",
   "execution_count": null,
   "id": "antique-amendment",
   "metadata": {},
   "outputs": [],
   "source": []
  },
  {
   "cell_type": "code",
   "execution_count": null,
   "id": "civil-capture",
   "metadata": {},
   "outputs": [],
   "source": []
  },
  {
   "cell_type": "code",
   "execution_count": 4,
   "id": "surprising-electricity",
   "metadata": {},
   "outputs": [
    {
     "data": {
      "text/plain": [
       "'evaluate a set'"
      ]
     },
     "execution_count": 4,
     "metadata": {},
     "output_type": "execute_result"
    }
   ],
   "source": [
    "'''why they look like themselves'''\n",
    "'''evaluate an original set'''\n",
    "# in_folder_path=\"ref_iphone_original\"\n",
    "# out_folder_path=\"ref_ablation\"\n",
    "\n",
    "# u.eval1folder(model_path, in_folder_path, out_folder_path,\\\n",
    "#               brand=\"iphone\", resample=1)\n",
    "# in_folder_path=\"ref_samsung_original\"\n",
    "# u.eval1folder(model_path, in_folder_path, out_folder_path,\\\n",
    "#               brand=\"samsung\", resample=1)\n",
    "\n",
    "'''evaluate a resampled set'''\n",
    "in_folder_path=\"ref_iphone_resample\"\n",
    "out_folder_path=\"ref_ablation\"\n",
    "u.eval1folder(model_path, in_folder_path, out_folder_path,\\\n",
    "              brand=\"iphone\", resample=0)\n",
    "in_folder_path=\"ref_samsung_resample\"\n",
    "u.eval1folder(model_path, in_folder_path, out_folder_path,\\\n",
    "              brand=\"samsung\", resample=0)\n",
    "\n",
    "'''evaluate a set'''\n",
    "# '''load the reference dataset'''\n",
    "# ref_set_name = \"%s/ref_data.pkl\"%pkl_folder\n",
    "# ref_curve_label_name=\"%s/ref_curve_label.pkl\"%pkl_folder\n",
    "# ref_label_name= \"%s/ref_label.pkl\"%pkl_folder\n",
    "# ref_dist_mat_name=\"%s/ref_dist_mat.pkl\"%pkl_folder\n",
    "\n",
    "# ref_set, ref_curve_label, ref_label, ref_dist_mat=\\\n",
    "# u.load_set(ref_set_name, ref_curve_label_name,\\\n",
    "#            ref_label_name, ref_dist_mat_name)\n",
    "\n",
    "# u.eval1set(\"rec_sage_ns2.pt\", ref_set, ref_label,\\\n",
    "#              ref_curve_label, ref_dist_mat, out_folder=\"ablation_ref\")"
   ]
  },
  {
   "cell_type": "code",
   "execution_count": 9,
   "id": "young-residence",
   "metadata": {},
   "outputs": [
    {
     "data": {
      "text/plain": [
       "1.0"
      ]
     },
     "execution_count": 9,
     "metadata": {},
     "output_type": "execute_result"
    }
   ],
   "source": [
    "svg_path=\"x_ns.svg\"\n",
    "u.test1svg(model_path, svg_path, \"iphone\", resample=1,\\\n",
    "          prediction=1, ablation=\"ablation folder\")"
   ]
  },
  {
   "cell_type": "code",
   "execution_count": null,
   "id": "specified-bunny",
   "metadata": {},
   "outputs": [],
   "source": [
    "'''reference set'''"
   ]
  },
  {
   "cell_type": "code",
   "execution_count": 6,
   "id": "sublime-timer",
   "metadata": {},
   "outputs": [],
   "source": [
    "model_path=\"phonesage_naug_avg.pt\"\n",
    "'''evaluate a resampled set'''\n",
    "in_folder_path=\"ref_iphone_resample\"\n",
    "out_folder_path=\"ref_ablation/%s/true\"%model_path\n",
    "u.eval1folder(model_path, in_folder_path, out_folder_path,\\\n",
    "              brand=\"iphone\", resample=0)\n",
    "in_folder_path=\"ref_samsung_resample\"\n",
    "u.eval1folder(model_path, in_folder_path, out_folder_path,\\\n",
    "              brand=\"samsung\", resample=0)\n",
    "\n",
    "in_folder_path=\"ref_iphone_resample\"\n",
    "out_folder_path=\"ref_ablation/%s/false\"%model_path\n",
    "u.eval1folder(model_path, in_folder_path, out_folder_path,\\\n",
    "              brand=\"samsung\", resample=0)\n",
    "in_folder_path=\"ref_samsung_resample\"\n",
    "u.eval1folder(model_path, in_folder_path, out_folder_path,\\\n",
    "              brand=\"iphone\", resample=0)"
   ]
  },
  {
   "cell_type": "code",
   "execution_count": 9,
   "id": "tender-detective",
   "metadata": {},
   "outputs": [],
   "source": [
    "model_path=\"phonesage_naug_norm.pt\"\n",
    "'''evaluate a resampled set'''\n",
    "in_folder_path=\"ref_iphone_resample\"\n",
    "out_folder_path=\"ref_ablation/%s/true\"%model_path\n",
    "u.eval1folder(model_path, in_folder_path, out_folder_path,\\\n",
    "              brand=\"iphone\", resample=0, mode=\"norm\")\n",
    "in_folder_path=\"ref_samsung_resample\"\n",
    "u.eval1folder(model_path, in_folder_path, out_folder_path,\\\n",
    "              brand=\"samsung\", resample=0, mode=\"norm\")\n",
    "\n",
    "in_folder_path=\"ref_iphone_resample\"\n",
    "out_folder_path=\"ref_ablation/%s/false\"%model_path\n",
    "u.eval1folder(model_path, in_folder_path, out_folder_path,\\\n",
    "              brand=\"samsung\", resample=0, mode=\"norm\")\n",
    "in_folder_path=\"ref_samsung_resample\"\n",
    "u.eval1folder(model_path, in_folder_path, out_folder_path,\\\n",
    "              brand=\"iphone\", resample=0, mode=\"norm\")"
   ]
  },
  {
   "cell_type": "code",
   "execution_count": null,
   "id": "automatic-representative",
   "metadata": {},
   "outputs": [],
   "source": [
    "model_path=\"phonesage_naug_norm_continue.pt\"\n",
    "'''evaluate a resampled set'''\n",
    "in_folder_path=\"ref_iphone_resample\"\n",
    "out_folder_path=\"ref_ablation/%s/true\"%model_path\n",
    "u.eval1folder(model_path, in_folder_path, out_folder_path,\\\n",
    "              brand=\"iphone\", resample=0, mode=\"norm\")\n",
    "in_folder_path=\"ref_samsung_resample\"\n",
    "u.eval1folder(model_path, in_folder_path, out_folder_path,\\\n",
    "              brand=\"samsung\", resample=0, mode=\"norm\")\n",
    "\n",
    "in_folder_path=\"ref_iphone_resample\"\n",
    "out_folder_path=\"ref_ablation/%s/false\"%model_path\n",
    "u.eval1folder(model_path, in_folder_path, out_folder_path,\\\n",
    "              brand=\"samsung\", resample=0, mode=\"norm\")\n",
    "in_folder_path=\"ref_samsung_resample\"\n",
    "u.eval1folder(model_path, in_folder_path, out_folder_path,\\\n",
    "              brand=\"iphone\", resample=0, mode=\"norm\")"
   ]
  },
  {
   "cell_type": "code",
   "execution_count": null,
   "id": "acknowledged-foster",
   "metadata": {},
   "outputs": [],
   "source": [
    "'''the 10000 set is to big, so just prcoess 1000'''"
   ]
  },
  {
   "cell_type": "code",
   "execution_count": 10,
   "id": "multiple-mission",
   "metadata": {},
   "outputs": [],
   "source": [
    "model_path=\"phonesage_naug_avg.pt\"\n",
    "'''evaluate a resampled set'''\n",
    "in_folder_path=\"1000_iphone_resample\"\n",
    "out_folder_path=\"1000_ablation/%s/true\"%model_path\n",
    "u.eval1folder(model_path, in_folder_path, out_folder_path,\\\n",
    "              brand=\"iphone\", resample=0)\n",
    "in_folder_path=\"1000_samsung_resample\"\n",
    "u.eval1folder(model_path, in_folder_path, out_folder_path,\\\n",
    "              brand=\"samsung\", resample=0)\n",
    "\n",
    "in_folder_path=\"1000_iphone_resample\"\n",
    "out_folder_path=\"1000_ablation/%s/false\"%model_path\n",
    "u.eval1folder(model_path, in_folder_path, out_folder_path,\\\n",
    "              brand=\"samsung\", resample=0)\n",
    "in_folder_path=\"1000_samsung_resample\"\n",
    "u.eval1folder(model_path, in_folder_path, out_folder_path,\\\n",
    "              brand=\"iphone\", resample=0)"
   ]
  },
  {
   "cell_type": "code",
   "execution_count": 11,
   "id": "accessory-communication",
   "metadata": {},
   "outputs": [],
   "source": [
    "model_path=\"phonesage_naug_norm.pt\"\n",
    "'''evaluate a resampled set'''\n",
    "in_folder_path=\"1000_iphone_resample\"\n",
    "out_folder_path=\"1000_ablation/%s/true\"%model_path\n",
    "u.eval1folder(model_path, in_folder_path, out_folder_path,\\\n",
    "              brand=\"iphone\", resample=0, mode=\"norm\")\n",
    "in_folder_path=\"1000_samsung_resample\"\n",
    "u.eval1folder(model_path, in_folder_path, out_folder_path,\\\n",
    "              brand=\"samsung\", resample=0, mode=\"norm\")\n",
    "\n",
    "in_folder_path=\"1000_iphone_resample\"\n",
    "out_folder_path=\"1000_ablation/%s/false\"%model_path\n",
    "u.eval1folder(model_path, in_folder_path, out_folder_path,\\\n",
    "              brand=\"samsung\", resample=0, mode=\"norm\")\n",
    "in_folder_path=\"1000_samsung_resample\"\n",
    "u.eval1folder(model_path, in_folder_path, out_folder_path,\\\n",
    "              brand=\"iphone\", resample=0, mode=\"norm\")"
   ]
  }
 ],
 "metadata": {
  "kernelspec": {
   "display_name": "kernel_20210124",
   "language": "python",
   "name": "kernel_20210124"
  },
  "language_info": {
   "codemirror_mode": {
    "name": "ipython",
    "version": 3
   },
   "file_extension": ".py",
   "mimetype": "text/x-python",
   "name": "python",
   "nbconvert_exporter": "python",
   "pygments_lexer": "ipython3",
   "version": "3.6.7"
  }
 },
 "nbformat": 4,
 "nbformat_minor": 5
}
